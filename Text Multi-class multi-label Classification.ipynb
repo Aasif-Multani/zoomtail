{
 "cells": [
  {
   "cell_type": "markdown",
   "metadata": {},
   "source": [
    "# Text classification with Reuters-21578 datasets\n",
    "Downloaded the from reuters21578 data set first. https://archive.ics.uci.edu/ml/machine-learning-databases/reuters21578-mld/\n",
    "\n",
    "* Tested with Python 3.5\n",
    "* Keras with Tensorflow 1.3 backend"
   ]
  },
  {
   "cell_type": "code",
   "execution_count": 23,
   "metadata": {
    "ExecuteTime": {
     "end_time": "2019-04-19T11:45:47.146880Z",
     "start_time": "2019-04-19T11:45:45.687562Z"
    }
   },
   "outputs": [
    {
     "name": "stdout",
     "output_type": "stream",
     "text": [
      "Populating the interactive namespace from numpy and matplotlib\n"
     ]
    },
    {
     "name": "stderr",
     "output_type": "stream",
     "text": [
      "C:\\Users\\NII\\AppData\\Local\\conda\\conda\\envs\\keras\\lib\\site-packages\\IPython\\core\\magics\\pylab.py:160: UserWarning: pylab import has clobbered these variables: ['random', 'place']\n",
      "`%matplotlib` prevents importing * from pylab and numpy\n",
      "  \"\\n`%matplotlib` prevents importing * from pylab and numpy\"\n"
     ]
    }
   ],
   "source": [
    "%pylab inline"
   ]
  },
  {
   "cell_type": "code",
   "execution_count": 24,
   "metadata": {
    "ExecuteTime": {
     "end_time": "2019-04-19T11:45:56.264251Z",
     "start_time": "2019-04-19T11:45:56.226659Z"
    }
   },
   "outputs": [],
   "source": [
    "import re\n",
    "import xml.sax.saxutils as saxutils\n",
    "\n",
    "from bs4 import BeautifulSoup\n",
    "\n",
    "from keras.models import Sequential\n",
    "from keras.layers.embeddings import Embedding\n",
    "from keras.layers.recurrent import GRU\n",
    "from keras.preprocessing.text import Tokenizer\n",
    "from keras.preprocessing.sequence import pad_sequences\n",
    "from keras.layers import Dense\n",
    "\n",
    "from nltk.corpus import stopwords\n",
    "from nltk.tokenize import word_tokenize\n",
    "from nltk.stem import WordNetLemmatizer\n",
    "\n",
    "from pandas import DataFrame\n",
    "\n",
    "from random import random\n",
    "import numpy as np\n",
    "# Set Numpy random seed\n",
    "np.random.seed(1)"
   ]
  },
  {
   "cell_type": "markdown",
   "metadata": {},
   "source": [
    "## General constants (modify them according to you environment)"
   ]
  },
  {
   "cell_type": "code",
   "execution_count": 25,
   "metadata": {
    "ExecuteTime": {
     "end_time": "2019-04-19T11:46:04.424412Z",
     "start_time": "2019-04-19T11:46:04.418463Z"
    }
   },
   "outputs": [],
   "source": [
    "\n",
    "# TODO: download the dataset and change the data_folder to match with yours\n",
    "# Downloaded from https://archive.ics.uci.edu/ml/machine-learning-databases/reuters21578-mld/\n",
    "data_folder = 'D:\\\\Learning\\\\zoomtail\\\\reuters21578\\\\'\n",
    "\n",
    "sgml_number_of_files = 22\n",
    "sgml_file_name_template = 'reut2-{}.sgm'\n",
    "\n",
    "# Category files\n",
    "category_files = {\n",
    "    'to_': ('Topics', 'all-topics-strings.lc.txt'),\n",
    "    'pl_': ('Places', 'all-places-strings.lc.txt'),\n",
    "    'pe_': ('People', 'all-people-strings.lc.txt'),\n",
    "    'or_': ('Organizations', 'all-orgs-strings.lc.txt'),\n",
    "    'ex_': ('Exchanges', 'all-exchanges-strings.lc.txt')\n",
    "}"
   ]
  },
  {
   "cell_type": "markdown",
   "metadata": {},
   "source": [
    "## Prepare documents and categories"
   ]
  },
  {
   "cell_type": "code",
   "execution_count": 26,
   "metadata": {
    "ExecuteTime": {
     "end_time": "2019-04-19T11:46:12.681528Z",
     "start_time": "2019-04-19T11:46:12.409257Z"
    },
    "scrolled": true
   },
   "outputs": [],
   "source": [
    "# Read all categories\n",
    "category_data = []\n",
    "\n",
    "for category_prefix in category_files.keys():\n",
    "    with open(data_folder + category_files[category_prefix][1], 'r') as file:\n",
    "        for category in file.readlines():\n",
    "            category_data.append([category_prefix + category.strip().lower(), \n",
    "                                  category_files[category_prefix][0], \n",
    "                                  0])\n",
    "\n",
    "# Create category dataframe\n",
    "news_categories = DataFrame(data=category_data, columns=['Name', 'Type', 'Newslines'])"
   ]
  },
  {
   "cell_type": "code",
   "execution_count": 27,
   "metadata": {
    "ExecuteTime": {
     "end_time": "2019-04-19T11:46:21.122894Z",
     "start_time": "2019-04-19T11:46:21.106937Z"
    }
   },
   "outputs": [],
   "source": [
    "def update_frequencies(categories):\n",
    "    for category in categories:\n",
    "        idx = news_categories[news_categories.Name == category].index[0]\n",
    "        f = news_categories.get_value(idx, 'Newslines')\n",
    "        news_categories.set_value(idx, 'Newslines', f+1)\n",
    "    \n",
    "def to_category_vector(categories, target_categories):\n",
    "    vector = zeros(len(target_categories)).astype(float32)\n",
    "    \n",
    "    for i in range(len(target_categories)):\n",
    "        if target_categories[i] in categories:\n",
    "            vector[i] = 1.0\n",
    "    \n",
    "    return vector"
   ]
  },
  {
   "cell_type": "code",
   "execution_count": 28,
   "metadata": {
    "ExecuteTime": {
     "end_time": "2019-04-19T11:48:32.384943Z",
     "start_time": "2019-04-19T11:46:28.953944Z"
    }
   },
   "outputs": [
    {
     "name": "stdout",
     "output_type": "stream",
     "text": [
      "Reading file: reut2-000.sgm\n"
     ]
    },
    {
     "name": "stderr",
     "output_type": "stream",
     "text": [
      "C:\\Users\\NII\\AppData\\Local\\conda\\conda\\envs\\keras\\lib\\site-packages\\ipykernel_launcher.py:4: FutureWarning: get_value is deprecated and will be removed in a future release. Please use .at[] or .iat[] accessors instead\n",
      "  after removing the cwd from sys.path.\n",
      "C:\\Users\\NII\\AppData\\Local\\conda\\conda\\envs\\keras\\lib\\site-packages\\ipykernel_launcher.py:5: FutureWarning: set_value is deprecated and will be removed in a future release. Please use .at[] or .iat[] accessors instead\n",
      "  \"\"\"\n"
     ]
    },
    {
     "name": "stdout",
     "output_type": "stream",
     "text": [
      "Reading file: reut2-001.sgm\n",
      "Reading file: reut2-002.sgm\n",
      "Reading file: reut2-003.sgm\n",
      "Reading file: reut2-004.sgm\n",
      "Reading file: reut2-005.sgm\n",
      "Reading file: reut2-006.sgm\n",
      "Reading file: reut2-007.sgm\n",
      "Reading file: reut2-008.sgm\n",
      "Reading file: reut2-009.sgm\n",
      "Reading file: reut2-010.sgm\n",
      "Reading file: reut2-011.sgm\n",
      "Reading file: reut2-012.sgm\n",
      "Reading file: reut2-013.sgm\n",
      "Reading file: reut2-014.sgm\n",
      "Reading file: reut2-015.sgm\n",
      "Reading file: reut2-016.sgm\n",
      "Reading file: reut2-017.sgm\n",
      "Reading file: reut2-018.sgm\n",
      "Reading file: reut2-019.sgm\n",
      "Reading file: reut2-020.sgm\n",
      "Reading file: reut2-021.sgm\n"
     ]
    }
   ],
   "source": [
    "# Those are the top 20 categories we will use for the classification\n",
    "selected_categories = ['pl_usa', 'to_earn', 'to_acq', 'pl_uk', 'pl_japan', 'pl_canada', 'to_money-fx',\n",
    " 'to_crude', 'to_grain', 'pl_west-germany', 'to_trade', 'to_interest',\n",
    " 'pl_france', 'or_ec', 'pl_brazil', 'to_wheat', 'to_ship', 'pl_australia',\n",
    " 'to_corn', 'pl_china']\n",
    "\n",
    "# Parse SGML files\n",
    "document_X = []\n",
    "document_Y = []\n",
    "\n",
    "def strip_tags(text):\n",
    "    return re.sub('<[^<]+?>', '', text).strip()\n",
    "\n",
    "def unescape(text):\n",
    "    return saxutils.unescape(text)\n",
    "\n",
    "# Iterate all files\n",
    "for i in range(sgml_number_of_files):\n",
    "    file_name = sgml_file_name_template.format(str(i).zfill(3))\n",
    "    print('Reading file: %s' % file_name)\n",
    "    \n",
    "    with open(data_folder + file_name, 'rb') as file:\n",
    "        content = BeautifulSoup(file.read().lower(), \"html.parser\")\n",
    "        \n",
    "        for newsline in content('reuters'):\n",
    "            document_categories = []\n",
    "            \n",
    "            # News-line Id\n",
    "            document_id = newsline['newid']\n",
    "            \n",
    "            # News-line text\n",
    "            document_body = strip_tags(str(newsline('text')[0].text)).replace('reuter\\n&#3;', '')\n",
    "            document_body = unescape(document_body)\n",
    "            \n",
    "            # News-line categories\n",
    "            topics = newsline.topics.contents\n",
    "            places = newsline.places.contents\n",
    "            people = newsline.people.contents\n",
    "            orgs = newsline.orgs.contents\n",
    "            exchanges = newsline.exchanges.contents\n",
    "            \n",
    "            for topic in topics:\n",
    "                document_categories.append('to_' + strip_tags(str(topic)))\n",
    "                \n",
    "            for place in places:\n",
    "                document_categories.append('pl_' + strip_tags(str(place)))\n",
    "                \n",
    "            for person in people:\n",
    "                document_categories.append('pe_' + strip_tags(str(person)))\n",
    "                \n",
    "            for org in orgs:\n",
    "                document_categories.append('or_' + strip_tags(str(org)))\n",
    "                \n",
    "            for exchange in exchanges:\n",
    "                document_categories.append('ex_' + strip_tags(str(exchange)))\n",
    "                \n",
    "            # Create new document    \n",
    "            update_frequencies(document_categories)\n",
    "            \n",
    "            document_X.append(document_body)\n",
    "            document_Y.append(to_category_vector(document_categories, selected_categories))"
   ]
  },
  {
   "cell_type": "markdown",
   "metadata": {},
   "source": [
    "## Select top 20 categories (by number of newslines)"
   ]
  },
  {
   "cell_type": "code",
   "execution_count": 29,
   "metadata": {
    "ExecuteTime": {
     "end_time": "2019-04-19T11:48:39.685743Z",
     "start_time": "2019-04-19T11:48:39.615543Z"
    }
   },
   "outputs": [
    {
     "data": {
      "text/html": [
       "<div>\n",
       "<style scoped>\n",
       "    .dataframe tbody tr th:only-of-type {\n",
       "        vertical-align: middle;\n",
       "    }\n",
       "\n",
       "    .dataframe tbody tr th {\n",
       "        vertical-align: top;\n",
       "    }\n",
       "\n",
       "    .dataframe thead th {\n",
       "        text-align: right;\n",
       "    }\n",
       "</style>\n",
       "<table border=\"1\" class=\"dataframe\">\n",
       "  <thead>\n",
       "    <tr style=\"text-align: right;\">\n",
       "      <th></th>\n",
       "      <th>Name</th>\n",
       "      <th>Type</th>\n",
       "      <th>Newslines</th>\n",
       "    </tr>\n",
       "  </thead>\n",
       "  <tbody>\n",
       "    <tr>\n",
       "      <th>296</th>\n",
       "      <td>pl_usa</td>\n",
       "      <td>Places</td>\n",
       "      <td>12542</td>\n",
       "    </tr>\n",
       "    <tr>\n",
       "      <th>35</th>\n",
       "      <td>to_earn</td>\n",
       "      <td>Topics</td>\n",
       "      <td>3987</td>\n",
       "    </tr>\n",
       "    <tr>\n",
       "      <th>0</th>\n",
       "      <td>to_acq</td>\n",
       "      <td>Topics</td>\n",
       "      <td>2448</td>\n",
       "    </tr>\n",
       "    <tr>\n",
       "      <th>293</th>\n",
       "      <td>pl_uk</td>\n",
       "      <td>Places</td>\n",
       "      <td>1489</td>\n",
       "    </tr>\n",
       "    <tr>\n",
       "      <th>219</th>\n",
       "      <td>pl_japan</td>\n",
       "      <td>Places</td>\n",
       "      <td>1138</td>\n",
       "    </tr>\n",
       "    <tr>\n",
       "      <th>166</th>\n",
       "      <td>pl_canada</td>\n",
       "      <td>Places</td>\n",
       "      <td>1104</td>\n",
       "    </tr>\n",
       "    <tr>\n",
       "      <th>73</th>\n",
       "      <td>to_money-fx</td>\n",
       "      <td>Topics</td>\n",
       "      <td>801</td>\n",
       "    </tr>\n",
       "    <tr>\n",
       "      <th>28</th>\n",
       "      <td>to_crude</td>\n",
       "      <td>Topics</td>\n",
       "      <td>634</td>\n",
       "    </tr>\n",
       "    <tr>\n",
       "      <th>45</th>\n",
       "      <td>to_grain</td>\n",
       "      <td>Topics</td>\n",
       "      <td>628</td>\n",
       "    </tr>\n",
       "    <tr>\n",
       "      <th>302</th>\n",
       "      <td>pl_west-germany</td>\n",
       "      <td>Places</td>\n",
       "      <td>567</td>\n",
       "    </tr>\n",
       "    <tr>\n",
       "      <th>126</th>\n",
       "      <td>to_trade</td>\n",
       "      <td>Topics</td>\n",
       "      <td>552</td>\n",
       "    </tr>\n",
       "    <tr>\n",
       "      <th>55</th>\n",
       "      <td>to_interest</td>\n",
       "      <td>Topics</td>\n",
       "      <td>513</td>\n",
       "    </tr>\n",
       "    <tr>\n",
       "      <th>191</th>\n",
       "      <td>pl_france</td>\n",
       "      <td>Places</td>\n",
       "      <td>469</td>\n",
       "    </tr>\n",
       "    <tr>\n",
       "      <th>587</th>\n",
       "      <td>or_ec</td>\n",
       "      <td>Organizations</td>\n",
       "      <td>349</td>\n",
       "    </tr>\n",
       "    <tr>\n",
       "      <th>158</th>\n",
       "      <td>pl_brazil</td>\n",
       "      <td>Places</td>\n",
       "      <td>332</td>\n",
       "    </tr>\n",
       "    <tr>\n",
       "      <th>130</th>\n",
       "      <td>to_wheat</td>\n",
       "      <td>Topics</td>\n",
       "      <td>306</td>\n",
       "    </tr>\n",
       "    <tr>\n",
       "      <th>108</th>\n",
       "      <td>to_ship</td>\n",
       "      <td>Topics</td>\n",
       "      <td>305</td>\n",
       "    </tr>\n",
       "    <tr>\n",
       "      <th>145</th>\n",
       "      <td>pl_australia</td>\n",
       "      <td>Places</td>\n",
       "      <td>270</td>\n",
       "    </tr>\n",
       "    <tr>\n",
       "      <th>19</th>\n",
       "      <td>to_corn</td>\n",
       "      <td>Topics</td>\n",
       "      <td>254</td>\n",
       "    </tr>\n",
       "    <tr>\n",
       "      <th>172</th>\n",
       "      <td>pl_china</td>\n",
       "      <td>Places</td>\n",
       "      <td>223</td>\n",
       "    </tr>\n",
       "  </tbody>\n",
       "</table>\n",
       "</div>"
      ],
      "text/plain": [
       "                Name           Type  Newslines\n",
       "296           pl_usa         Places      12542\n",
       "35           to_earn         Topics       3987\n",
       "0             to_acq         Topics       2448\n",
       "293            pl_uk         Places       1489\n",
       "219         pl_japan         Places       1138\n",
       "166        pl_canada         Places       1104\n",
       "73       to_money-fx         Topics        801\n",
       "28          to_crude         Topics        634\n",
       "45          to_grain         Topics        628\n",
       "302  pl_west-germany         Places        567\n",
       "126         to_trade         Topics        552\n",
       "55       to_interest         Topics        513\n",
       "191        pl_france         Places        469\n",
       "587            or_ec  Organizations        349\n",
       "158        pl_brazil         Places        332\n",
       "130         to_wheat         Topics        306\n",
       "108          to_ship         Topics        305\n",
       "145     pl_australia         Places        270\n",
       "19           to_corn         Topics        254\n",
       "172         pl_china         Places        223"
      ]
     },
     "execution_count": 29,
     "metadata": {},
     "output_type": "execute_result"
    }
   ],
   "source": [
    "news_categories.sort_values(by='Newslines', ascending=False, inplace=True)\n",
    "# Selected categories\n",
    "selected_categories = np.array(news_categories[\"Name\"].head(20))\n",
    "num_categories = 20\n",
    "news_categories.head(num_categories)"
   ]
  },
  {
   "cell_type": "markdown",
   "metadata": {},
   "source": [
    "### Take a look at the input and output data\n",
    "The output data **document_Y** looks good, it is a list of 20 (1 or 0) representing 20 categories.\n",
    "\n",
    "The input data still need to be cleaned up for the model input."
   ]
  },
  {
   "cell_type": "code",
   "execution_count": 30,
   "metadata": {
    "ExecuteTime": {
     "end_time": "2019-04-19T11:48:46.890474Z",
     "start_time": "2019-04-19T11:48:46.883490Z"
    },
    "scrolled": false
   },
   "outputs": [
    {
     "name": "stdout",
     "output_type": "stream",
     "text": [
      "\u0002\n",
      "average yen cd rates fall in latest week\n",
      "    tokyo, feb 27 - average interest rates on yen certificates\n",
      "of deposit, cd, fell to 4.27 pct in the week ended february 25\n",
      "from 4.32 pct the previous week, the bank of japan said.\n",
      "    new rates (previous in brackets), were -\n",
      "    average cd rates all banks 4.27 pct (4.32)\n",
      "    money market certificate, mmc, ceiling rates for the week\n",
      "starting from march 2          3.52 pct (3.57)\n",
      "    average cd rates of city, trust and long-term banks\n",
      "    less than 60 days          4.33 pct (4.32)\n",
      "    60-90 days                 4.13 pct (4.37)\n",
      "    average cd rates of city, trust and long-term banks\n",
      "    90-120 days             4.35 pct (4.30)\n",
      "    120-150 days            4.38 pct (4.29)\n",
      "    150-180 days            unquoted (unquoted)\n",
      "    180-270 days            3.67 pct (unquoted)\n",
      "    over 270 days           4.01 pct (unquoted)\n",
      "    average yen bankers' acceptance rates of city, trust and\n",
      "long-term banks\n",
      "    30 to less than 60 days unquoted (4.13)\n",
      "    60-90 days              unquoted (unquoted)\n",
      "    90-120 days             unquoted (unquoted)\n",
      " reuter\n",
      "\u0003\n",
      "[0. 0. 0. 0. 1. 0. 1. 0. 0. 0. 0. 1. 0. 0. 0. 0. 0. 0. 0. 0.]\n"
     ]
    }
   ],
   "source": [
    "print(document_X[220])\n",
    "print(document_Y[220])"
   ]
  },
  {
   "cell_type": "markdown",
   "metadata": {},
   "source": [
    "## Clean up the data\n",
    "Function to clean up data\n",
    "* Only take characters inside A-Za-z0-9\n",
    "* remove stop words\n",
    "* lemmatize"
   ]
  },
  {
   "cell_type": "code",
   "execution_count": 31,
   "metadata": {
    "ExecuteTime": {
     "end_time": "2019-04-19T11:48:54.174281Z",
     "start_time": "2019-04-19T11:48:54.000451Z"
    }
   },
   "outputs": [],
   "source": [
    "lemmatizer = WordNetLemmatizer()\n",
    "strip_special_chars = re.compile(\"[^A-Za-z0-9 ]+\")\n",
    "stop_words = set(stopwords.words(\"english\"))\n",
    "\n",
    "def cleanUpSentence(r, stop_words = None):\n",
    "    r = r.lower().replace(\"<br />\", \" \")\n",
    "    r = re.sub(strip_special_chars, \"\", r.lower())\n",
    "    if stop_words is not None:\n",
    "        words = word_tokenize(r)\n",
    "        filtered_sentence = []\n",
    "        for w in words:\n",
    "            w = lemmatizer.lemmatize(w)\n",
    "            if w not in stop_words:\n",
    "                filtered_sentence.append(w)\n",
    "        return \" \".join(filtered_sentence)\n",
    "    else:\n",
    "        return r"
   ]
  },
  {
   "cell_type": "markdown",
   "metadata": {},
   "source": [
    "### Here we are cleaning up the data"
   ]
  },
  {
   "cell_type": "code",
   "execution_count": 32,
   "metadata": {
    "ExecuteTime": {
     "end_time": "2019-04-19T11:49:41.557809Z",
     "start_time": "2019-04-19T11:49:01.432865Z"
    }
   },
   "outputs": [],
   "source": [
    "totalX = []\n",
    "totalY = np.array(document_Y)\n",
    "for i, doc in enumerate(document_X):\n",
    "    totalX.append(cleanUpSentence(doc, stop_words))"
   ]
  },
  {
   "cell_type": "markdown",
   "metadata": {},
   "source": [
    "### Take a look at the input and output data now\n",
    "The input data looks clean and ready to be turned to ids"
   ]
  },
  {
   "cell_type": "code",
   "execution_count": 33,
   "metadata": {
    "ExecuteTime": {
     "end_time": "2019-04-19T11:49:48.945054Z",
     "start_time": "2019-04-19T11:49:48.938072Z"
    },
    "scrolled": true
   },
   "outputs": [
    {
     "name": "stdout",
     "output_type": "stream",
     "text": [
      "average yen cd rate fall latest week tokyo feb 27 average interest rate yen certificatesof deposit cd fell 427 pct week ended february 25from 432 pct previous week bank japan said new rate previous bracket average cd rate bank 427 pct 432 money market certificate mmc ceiling rate weekstarting march 2 352 pct 357 average cd rate city trust longterm bank le 60 day 433 pct 432 6090 day 413 pct 437 average cd rate city trust longterm bank 90120 day 435 pct 430 120150 day 438 pct 429 150180 day unquoted unquoted 180270 day 367 pct unquoted 270 day 401 pct unquoted average yen banker acceptance rate city trust andlongterm bank 30 le 60 day unquoted 413 6090 day unquoted unquoted 90120 day unquoted unquoted reuter\n",
      "[0. 0. 0. 0. 1. 0. 1. 0. 0. 0. 0. 1. 0. 0. 0. 0. 0. 0. 0. 0.]\n"
     ]
    }
   ],
   "source": [
    "print(totalX[220])\n",
    "print(totalY[220])"
   ]
  },
  {
   "cell_type": "markdown",
   "metadata": {},
   "source": [
    "## Show input max sequence length\n",
    "If the max input sequence length is too long, we can put a limit to it in order to reduce the training time."
   ]
  },
  {
   "cell_type": "code",
   "execution_count": 34,
   "metadata": {
    "ExecuteTime": {
     "end_time": "2019-04-19T11:50:14.072832Z",
     "start_time": "2019-04-19T11:49:56.271452Z"
    }
   },
   "outputs": [
    {
     "name": "stdout",
     "output_type": "stream",
     "text": [
      "max input length is:  1500\n"
     ]
    }
   ],
   "source": [
    "xLengths = [len(word_tokenize(x)) for x in totalX]\n",
    "h = sorted(xLengths)  #sorted lengths\n",
    "maxLength =h[len(h)-1]\n",
    "print(\"max input length is: \",maxLength)"
   ]
  },
  {
   "cell_type": "markdown",
   "metadata": {},
   "source": [
    "### Choose a smaller max length for input sequence to reduce the training time"
   ]
  },
  {
   "cell_type": "code",
   "execution_count": 35,
   "metadata": {
    "ExecuteTime": {
     "end_time": "2019-04-19T11:50:21.354750Z",
     "start_time": "2019-04-19T11:50:21.345773Z"
    }
   },
   "outputs": [
    {
     "name": "stdout",
     "output_type": "stream",
     "text": [
      "70% cover input sequence length up to 88\n"
     ]
    }
   ],
   "source": [
    "maxLength = h[int(len(h) * 0.70)]\n",
    "print(\"70% cover input sequence length up to\",maxLength)"
   ]
  },
  {
   "cell_type": "markdown",
   "metadata": {},
   "source": [
    "## Convert input words to ids\n",
    "**max_vocab_size**: the maximum number of words to keep, we choose 30000 since it is big enough to keep all words in this case.\n",
    "\n",
    "Pad each input sequence to max input length **maxLength** if it is shorter."
   ]
  },
  {
   "cell_type": "code",
   "execution_count": 36,
   "metadata": {
    "ExecuteTime": {
     "end_time": "2019-04-19T11:50:33.675720Z",
     "start_time": "2019-04-19T11:50:28.900562Z"
    }
   },
   "outputs": [
    {
     "name": "stdout",
     "output_type": "stream",
     "text": [
      "input_vocab_size: 167135\n"
     ]
    }
   ],
   "source": [
    "max_vocab_size = 200000\n",
    "input_tokenizer = Tokenizer(max_vocab_size)\n",
    "input_tokenizer.fit_on_texts(totalX)\n",
    "input_vocab_size = len(input_tokenizer.word_index) + 1\n",
    "print(\"input_vocab_size:\",input_vocab_size)\n",
    "totalX = np.array(pad_sequences(input_tokenizer.texts_to_sequences(totalX), maxlen=maxLength))"
   ]
  },
  {
   "cell_type": "code",
   "execution_count": 66,
   "metadata": {
    "ExecuteTime": {
     "end_time": "2019-04-20T09:52:02.217664Z",
     "start_time": "2019-04-20T09:52:01.774838Z"
    }
   },
   "outputs": [],
   "source": [
    "import _pickle as cPickle\n",
    "with open(r\"input_tokenizer.pickle\", \"wb\") as output_file:\n",
    "    cPickle.dump(input_tokenizer, output_file)"
   ]
  },
  {
   "cell_type": "markdown",
   "metadata": {},
   "source": [
    "## Create Keras model\n",
    "\n",
    "* Embedding layer embed a sequence of vectors of size 256\n",
    "* GRU layers(recurrent network) which process the sequence data\n",
    "* Dense layer output the classification result of 20 categories"
   ]
  },
  {
   "cell_type": "code",
   "execution_count": 45,
   "metadata": {
    "ExecuteTime": {
     "end_time": "2019-04-19T13:21:55.081565Z",
     "start_time": "2019-04-19T13:21:53.525718Z"
    }
   },
   "outputs": [],
   "source": [
    "embedding_dim = 256\n",
    "model = Sequential()\n",
    "model.add(Embedding(input_vocab_size, embedding_dim,input_length = maxLength))\n",
    "model.add(GRU(256, dropout=0.9, return_sequences=True))\n",
    "model.add(GRU(256, dropout=0.9))\n",
    "model.add(Dense(num_categories, activation='sigmoid'))\n",
    "model.compile(loss='binary_crossentropy', optimizer='adam', metrics=['accuracy'])"
   ]
  },
  {
   "cell_type": "markdown",
   "metadata": {},
   "source": [
    "## Train model"
   ]
  },
  {
   "cell_type": "code",
   "execution_count": 46,
   "metadata": {
    "ExecuteTime": {
     "end_time": "2019-04-19T15:40:33.312718Z",
     "start_time": "2019-04-19T13:41:59.480679Z"
    }
   },
   "outputs": [
    {
     "name": "stdout",
     "output_type": "stream",
     "text": [
      "Train on 19420 samples, validate on 2158 samples\n",
      "Epoch 1/10\n",
      "19420/19420 [==============================] - 730s 38ms/step - loss: 0.2181 - acc: 0.9267 - val_loss: 0.1517 - val_acc: 0.9492\n",
      "Epoch 2/10\n",
      "19420/19420 [==============================] - 712s 37ms/step - loss: 0.1597 - acc: 0.9502 - val_loss: 0.1093 - val_acc: 0.9658\n",
      "Epoch 3/10\n",
      "19420/19420 [==============================] - 710s 37ms/step - loss: 0.1365 - acc: 0.9586 - val_loss: 0.1061 - val_acc: 0.9673\n",
      "Epoch 4/10\n",
      "19420/19420 [==============================] - 709s 36ms/step - loss: 0.1286 - acc: 0.9601 - val_loss: 0.1035 - val_acc: 0.9678\n",
      "Epoch 5/10\n",
      "19420/19420 [==============================] - 707s 36ms/step - loss: 0.1213 - acc: 0.9611 - val_loss: 0.1011 - val_acc: 0.9684\n",
      "Epoch 6/10\n",
      "19420/19420 [==============================] - 708s 36ms/step - loss: 0.1139 - acc: 0.9625 - val_loss: 0.0991 - val_acc: 0.9683\n",
      "Epoch 7/10\n",
      "19420/19420 [==============================] - 708s 36ms/step - loss: 0.1077 - acc: 0.9642 - val_loss: 0.0941 - val_acc: 0.9702\n",
      "Epoch 8/10\n",
      "19420/19420 [==============================] - 710s 37ms/step - loss: 0.1008 - acc: 0.9662 - val_loss: 0.0971 - val_acc: 0.9690\n",
      "Epoch 9/10\n",
      "19420/19420 [==============================] - 708s 36ms/step - loss: 0.0946 - acc: 0.9682 - val_loss: 0.0914 - val_acc: 0.9708\n",
      "Epoch 10/10\n",
      "19420/19420 [==============================] - 707s 36ms/step - loss: 0.0883 - acc: 0.9704 - val_loss: 0.0898 - val_acc: 0.9717\n"
     ]
    }
   ],
   "source": [
    "history = model.fit(totalX, totalY, validation_split=0.1, batch_size=128, epochs=10)"
   ]
  },
  {
   "cell_type": "code",
   "execution_count": 49,
   "metadata": {
    "ExecuteTime": {
     "end_time": "2019-04-20T07:35:12.162720Z",
     "start_time": "2019-04-20T07:35:04.760406Z"
    }
   },
   "outputs": [],
   "source": [
    "model.save(\"classification_model.h5\")"
   ]
  },
  {
   "cell_type": "markdown",
   "metadata": {},
   "source": [
    "## Visualize the training performance"
   ]
  },
  {
   "cell_type": "code",
   "execution_count": 50,
   "metadata": {
    "ExecuteTime": {
     "end_time": "2019-04-20T07:35:27.845277Z",
     "start_time": "2019-04-20T07:35:27.057447Z"
    }
   },
   "outputs": [
    {
     "data": {
      "image/png": "[encoded data removed]",
      "text/plain": [
       "<Figure size 432x288 with 1 Axes>"
      ]
     },
     "metadata": {
      "needs_background": "light"
     },
     "output_type": "display_data"
    },
    {
     "data": {
      "image/png": "[encoded data removed]",
      "text/plain": [
       "<Figure size 432x288 with 1 Axes>"
      ]
     },
     "metadata": {
      "needs_background": "light"
     },
     "output_type": "display_data"
    }
   ],
   "source": [
    "import matplotlib.pyplot as plt\n",
    "\n",
    "acc = history.history['acc']\n",
    "val_acc = history.history['val_acc']\n",
    "loss = history.history['loss']\n",
    "val_loss = history.history['val_loss']\n",
    "\n",
    "epochs = range(len(acc))\n",
    "\n",
    "plt.plot(epochs, acc, 'bo', label='Training acc')\n",
    "plt.plot(epochs, val_acc, 'b', label='Validation acc')\n",
    "plt.title('Training and validation accuracy')\n",
    "plt.legend()\n",
    "\n",
    "plt.figure()\n",
    "\n",
    "plt.plot(epochs, loss, 'bo', label='Training loss')\n",
    "plt.plot(epochs, val_loss, 'b', label='Validation loss')\n",
    "plt.title('Training and validation loss')\n",
    "plt.legend()\n",
    "\n",
    "plt.show()\n"
   ]
  },
  {
   "cell_type": "markdown",
   "metadata": {},
   "source": [
    "## Lets predict from one of our news data\n",
    "Here is the raw text from news at index 220"
   ]
  },
  {
   "cell_type": "code",
   "execution_count": 51,
   "metadata": {
    "ExecuteTime": {
     "end_time": "2019-04-20T07:35:49.579932Z",
     "start_time": "2019-04-20T07:35:49.572949Z"
    }
   },
   "outputs": [
    {
     "name": "stdout",
     "output_type": "stream",
     "text": [
      "\u0002\n",
      "average yen cd rates fall in latest week\n",
      "    tokyo, feb 27 - average interest rates on yen certificates\n",
      "of deposit, cd, fell to 4.27 pct in the week ended february 25\n",
      "from 4.32 pct the previous week, the bank of japan said.\n",
      "    new rates (previous in brackets), were -\n",
      "    average cd rates all banks 4.27 pct (4.32)\n",
      "    money market certificate, mmc, ceiling rates for the week\n",
      "starting from march 2          3.52 pct (3.57)\n",
      "    average cd rates of city, trust and long-term banks\n",
      "    less than 60 days          4.33 pct (4.32)\n",
      "    60-90 days                 4.13 pct (4.37)\n",
      "    average cd rates of city, trust and long-term banks\n",
      "    90-120 days             4.35 pct (4.30)\n",
      "    120-150 days            4.38 pct (4.29)\n",
      "    150-180 days            unquoted (unquoted)\n",
      "    180-270 days            3.67 pct (unquoted)\n",
      "    over 270 days           4.01 pct (unquoted)\n",
      "    average yen bankers' acceptance rates of city, trust and\n",
      "long-term banks\n",
      "    30 to less than 60 days unquoted (4.13)\n",
      "    60-90 days              unquoted (unquoted)\n",
      "    90-120 days             unquoted (unquoted)\n",
      " reuter\n",
      "\u0003\n"
     ]
    }
   ],
   "source": [
    "doc220 = document_X[220]\n",
    "print(doc220)"
   ]
  },
  {
   "cell_type": "markdown",
   "metadata": {},
   "source": [
    "### First clean up the input data"
   ]
  },
  {
   "cell_type": "code",
   "execution_count": 52,
   "metadata": {
    "ExecuteTime": {
     "end_time": "2019-04-20T07:35:57.639926Z",
     "start_time": "2019-04-20T07:35:57.624963Z"
    }
   },
   "outputs": [
    {
     "name": "stdout",
     "output_type": "stream",
     "text": [
      "average yen cd rate fall latest week tokyo feb 27 average interest rate yen certificatesof deposit cd fell 427 pct week ended february 25from 432 pct previous week bank japan said new rate previous bracket average cd rate bank 427 pct 432 money market certificate mmc ceiling rate weekstarting march 2 352 pct 357 average cd rate city trust longterm bank le 60 day 433 pct 432 6090 day 413 pct 437 average cd rate city trust longterm bank 90120 day 435 pct 430 120150 day 438 pct 429 150180 day unquoted unquoted 180270 day 367 pct unquoted 270 day 401 pct unquoted average yen banker acceptance rate city trust andlongterm bank 30 le 60 day unquoted 413 6090 day unquoted unquoted 90120 day unquoted unquoted reuter\n"
     ]
    }
   ],
   "source": [
    "input_x_220 = cleanUpSentence(doc220, stop_words)\n",
    "print(input_x_220)"
   ]
  },
  {
   "cell_type": "markdown",
   "metadata": {},
   "source": [
    "### Turn the text to padded ids then feed to the model"
   ]
  },
  {
   "cell_type": "code",
   "execution_count": 61,
   "metadata": {
    "ExecuteTime": {
     "end_time": "2019-04-20T07:49:23.877542Z",
     "start_time": "2019-04-20T07:49:04.129394Z"
    }
   },
   "outputs": [],
   "source": [
    "textArray = np.array(pad_sequences(input_tokenizer.texts_to_sequences([input_x_220]), maxlen=maxLength))\n",
    "from keras.models import load_model\n",
    "new_model = load_model(\"classification_model.h5\")\n",
    "predicted = new_model.predict(textArray)[0]"
   ]
  },
  {
   "cell_type": "code",
   "execution_count": 64,
   "metadata": {
    "ExecuteTime": {
     "end_time": "2019-04-20T07:51:07.963737Z",
     "start_time": "2019-04-20T07:51:07.955758Z"
    }
   },
   "outputs": [
    {
     "name": "stdout",
     "output_type": "stream",
     "text": [
      "0.12744065 pl_usa\n",
      "0.0004817822 to_earn\n",
      "0.00097138644 to_acq\n",
      "0.060339585 pl_uk\n",
      "0.19921212 pl_japan\n",
      "0.0038564976 pl_canada\n",
      "0.78513294 to_money-fx\n",
      "0.0120921 to_crude\n",
      "0.009678422 to_grain\n",
      "0.09541289 pl_west-germany\n",
      "0.0796486 to_trade\n",
      "0.6132422 to_interest\n",
      "0.18687144 pl_france\n",
      "0.060039848 or_ec\n",
      "0.059877448 pl_brazil\n",
      "0.0037294093 to_wheat\n",
      "0.0514342 to_ship\n",
      "0.011062657 pl_australia\n",
      "0.0061903964 to_corn\n",
      "0.037115827 pl_china\n"
     ]
    }
   ],
   "source": [
    "for i, prob in enumerate(predicted):\n",
    "    print(prob, selected_categories[i])"
   ]
  },
  {
   "cell_type": "markdown",
   "metadata": {},
   "source": [
    "### Lets take a look at the result"
   ]
  },
  {
   "cell_type": "code",
   "execution_count": 62,
   "metadata": {
    "ExecuteTime": {
     "end_time": "2019-04-20T07:50:27.884641Z",
     "start_time": "2019-04-20T07:50:27.876661Z"
    }
   },
   "outputs": [
    {
     "name": "stdout",
     "output_type": "stream",
     "text": [
      "to_money-fx\n",
      "to_interest\n"
     ]
    }
   ],
   "source": [
    "for i, prob in enumerate(predicted):\n",
    "    if prob > 0.2:\n",
    "        print(selected_categories[i])"
   ]
  },
  {
   "cell_type": "markdown",
   "metadata": {},
   "source": [
    "### And here is the ground truth\n",
    "Looks like the model got 2 out of 3 right for the given text"
   ]
  },
  {
   "cell_type": "code",
   "execution_count": 63,
   "metadata": {
    "ExecuteTime": {
     "end_time": "2019-04-20T07:50:36.145574Z",
     "start_time": "2019-04-20T07:50:36.133576Z"
    }
   },
   "outputs": [
    {
     "name": "stdout",
     "output_type": "stream",
     "text": [
      "pl_japan\n",
      "to_money-fx\n",
      "to_interest\n"
     ]
    }
   ],
   "source": [
    "categories_220 = document_Y[220]\n",
    "for i, prob in enumerate(categories_220):\n",
    "    if prob > 0.2:\n",
    "        print(selected_categories[i])"
   ]
  },
  {
   "cell_type": "code",
   "execution_count": null,
   "metadata": {
    "collapsed": true
   },
   "outputs": [],
   "source": []
  }
 ],
 "metadata": {
  "kernelspec": {
   "display_name": "Python 3",
   "language": "python",
   "name": "python3"
  },
  "language_info": {
   "codemirror_mode": {
    "name": "ipython",
    "version": 3
   },
   "file_extension": ".py",
   "mimetype": "text/x-python",
   "name": "python",
   "nbconvert_exporter": "python",
   "pygments_lexer": "ipython3",
   "version": "3.6.5"
  },
  "varInspector": {
   "cols": {
    "lenName": 16,
    "lenType": 16,
    "lenVar": 40
   },
   "kernels_config": {
    "python": {
     "delete_cmd_postfix": "",
     "delete_cmd_prefix": "del ",
     "library": "var_list.py",
     "varRefreshCmd": "print(var_dic_list())"
    },
    "r": {
     "delete_cmd_postfix": ") ",
     "delete_cmd_prefix": "rm(",
     "library": "var_list.r",
     "varRefreshCmd": "cat(var_dic_list()) "
    }
   },
   "types_to_exclude": [
    "module",
    "function",
    "builtin_function_or_method",
    "instance",
    "_Feature"
   ],
   "window_display": false
  }
 },
 "nbformat": 4,
 "nbformat_minor": 1
}
